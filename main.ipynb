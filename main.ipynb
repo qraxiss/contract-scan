{
 "cells": [
  {
   "cell_type": "code",
   "execution_count": 16,
   "metadata": {},
   "outputs": [],
   "source": [
    "from telebot import TeleBot\n",
    "\n",
    "x = TeleBot(\"5868558898:AAExlOh5cueANlQX1ECTxK52k9tHvtpTOyE\")\n",
    "try:\n",
    "    x.send_message(1479523398, \"a\"*4097)\n",
    "except Exception as e:\n",
    "    y = e"
   ]
  },
  {
   "cell_type": "code",
   "execution_count": 7,
   "metadata": {},
   "outputs": [
    {
     "data": {
      "text/plain": [
       "'A request to the Telegram API was unsuccessful. Error code: 400. Description: Bad Request: message is too long'"
      ]
     },
     "execution_count": 7,
     "metadata": {},
     "output_type": "execute_result"
    }
   ],
   "source": [
    "str(y)"
   ]
  },
  {
   "cell_type": "code",
   "execution_count": 5,
   "metadata": {},
   "outputs": [],
   "source": [
    "from script import Checker\n",
    "\n",
    "c = Checker({\n",
    "    'name': 's31',\n",
    "    'symbol': 's32'\n",
    "})"
   ]
  },
  {
   "cell_type": "code",
   "execution_count": 6,
   "metadata": {},
   "outputs": [],
   "source": [
    "def send_message(bot, chat_id, text):\n",
    "    try:\n",
    "        bot.send_message(chat_id, text)\n",
    "    except Exception as e:\n",
    "        if 'message is too long' in str(e):\n",
    "            for i in range(0, len(text)+1, 4096):\n",
    "                text_ = text[i:i+4096]\n",
    "                if text_ != '':\n",
    "                    bot.send_message(chat_id, text_)"
   ]
  },
  {
   "cell_type": "code",
   "execution_count": 15,
   "metadata": {},
   "outputs": [],
   "source": [
    "def send_message(bot, chat_id, text):\n",
    "    try:\n",
    "        bot.send_message(chat_id, text)\n",
    "    except Exception as e:\n",
    "        if 'message is too long' in str(e):\n",
    "            for i in range(0, len(text)+1, 4096):\n",
    "                text_ = text[i:i+4096]\n",
    "                if text_ != '':\n",
    "                    bot.send_message(chat_id, text_)"
   ]
  },
  {
   "cell_type": "code",
   "execution_count": 19,
   "metadata": {},
   "outputs": [
    {
     "data": {
      "text/plain": [
       "26"
      ]
     },
     "execution_count": 19,
     "metadata": {},
     "output_type": "execute_result"
    }
   ],
   "source": [
    "len(\"the__evcoin_communityentry\")"
   ]
  },
  {
   "cell_type": "code",
   "execution_count": 14,
   "metadata": {},
   "outputs": [
    {
     "name": "stdout",
     "output_type": "stream",
     "text": [
      "4096\n",
      "4096\n",
      "0\n"
     ]
    }
   ],
   "source": [
    "for i in range(0, len(x)+1, 4096):\n",
    "    print(len(x[i:i+4096]))"
   ]
  },
  {
   "cell_type": "code",
   "execution_count": null,
   "metadata": {},
   "outputs": [],
   "source": []
  }
 ],
 "metadata": {
  "kernelspec": {
   "display_name": "Python 3",
   "language": "python",
   "name": "python3"
  },
  "language_info": {
   "codemirror_mode": {
    "name": "ipython",
    "version": 3
   },
   "file_extension": ".py",
   "mimetype": "text/x-python",
   "name": "python",
   "nbconvert_exporter": "python",
   "pygments_lexer": "ipython3",
   "version": "3.11.1"
  },
  "orig_nbformat": 4,
  "vscode": {
   "interpreter": {
    "hash": "1a1af0ee75eeea9e2e1ee996c87e7a2b11a0bebd85af04bb136d915cefc0abce"
   }
  }
 },
 "nbformat": 4,
 "nbformat_minor": 2
}
