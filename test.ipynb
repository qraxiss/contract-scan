{
 "cells": [
  {
   "cell_type": "code",
   "execution_count": 1,
   "metadata": {},
   "outputs": [],
   "source": [
    "from script import Checker\n",
    "from telebot import TeleBot\n",
    "from time import time\n",
    "\n",
    "checker = Checker({\n",
    "    'name': 'Binance Smart Chain',\n",
    "    'symbol': 'BNB'\n",
    "}, TeleBot)\n",
    "\n",
    "checker.check_list['telegram'] = list(checker.check_list['telegram'])[:200]\n",
    "start = time()\n",
    "checker.check(['telegram', 'twitter', 'site'])\n",
    "end = time()\n",
    "print(checker.collects)\n",
    "print('zaman:', end-start)"
   ]
  },
  {
   "cell_type": "code",
   "execution_count": 2,
   "metadata": {},
   "outputs": [],
   "source": [
    "checker.check_list['telegram'] = list(checker.check_list['telegram'])[:200]\n",
    "\n",
    "start = time()\n",
    "checker.check(['telegram', 'twitter', 'site'])\n",
    "end = time()\n",
    "print(checker.collects)\n",
    "print('zaman:', end-start)"
   ]
  },
  {
   "cell_type": "code",
   "execution_count": 6,
   "metadata": {},
   "outputs": [
    {
     "name": "stdout",
     "output_type": "stream",
     "text": [
      "telegram 200\n",
      "site 864\n",
      "twitter 100\n",
      "gitbook 108\n",
      "github 108\n",
      "linktree 108\n"
     ]
    }
   ],
   "source": [
    "for k,v in checker.check_list.items():\n",
    "    if k == 'site':\n",
    "        print(k, len(v)*12)\n",
    "    else:\n",
    "        print(k, len(v))"
   ]
  },
  {
   "cell_type": "code",
   "execution_count": 3,
   "metadata": {},
   "outputs": [
    {
     "data": {
      "text/plain": [
       "True"
      ]
     },
     "execution_count": 3,
     "metadata": {},
     "output_type": "execute_result"
    }
   ],
   "source": [
    "not 0"
   ]
  },
  {
   "cell_type": "code",
   "execution_count": 3,
   "metadata": {},
   "outputs": [],
   "source": [
    "checker._check(checker.telegram, 'telegram')"
   ]
  },
  {
   "cell_type": "code",
   "execution_count": 13,
   "metadata": {},
   "outputs": [],
   "source": [
    "checker._check(checker.twitter, 'twitter')"
   ]
  },
  {
   "cell_type": "code",
   "execution_count": 5,
   "metadata": {},
   "outputs": [],
   "source": [
    "checker._check(checker.medium, 'medium')"
   ]
  },
  {
   "cell_type": "code",
   "execution_count": 6,
   "metadata": {},
   "outputs": [],
   "source": [
    "checker._check(checker.github, 'github')"
   ]
  },
  {
   "cell_type": "code",
   "execution_count": 7,
   "metadata": {},
   "outputs": [],
   "source": [
    "checker._check(checker.gitbook, 'gitbook')"
   ]
  },
  {
   "cell_type": "code",
   "execution_count": 8,
   "metadata": {},
   "outputs": [],
   "source": [
    "checker._check(checker.site, 'site')"
   ]
  },
  {
   "cell_type": "code",
   "execution_count": 9,
   "metadata": {},
   "outputs": [],
   "source": [
    "checker._check(checker.linktree, 'linktree')"
   ]
  },
  {
   "cell_type": "code",
   "execution_count": 10,
   "metadata": {},
   "outputs": [
    {
     "data": {
      "text/plain": [
       "defaultdict(list,\n",
       "            {'telegram': ['eth_bnb',\n",
       "              'bnbofficialchannel',\n",
       "              'chatbnb',\n",
       "              'bnb_chat',\n",
       "              'defi_binancesmartchain',\n",
       "              'binance_smart_chain_community',\n",
       "              'binance_smart_chain_chat',\n",
       "              'bnb_ethereum',\n",
       "              'the_bnb',\n",
       "              'updatebnb'],\n",
       "             'twitter': ['bnb_official',\n",
       "              'bnbportal',\n",
       "              'thebnbofficial',\n",
       "              'bnbchannel',\n",
       "              'bnbcoin',\n",
       "              'bnb_inu',\n",
       "              'bnbofficial',\n",
       "              'bnb_coin',\n",
       "              'bnbinu',\n",
       "              'bnbeth'],\n",
       "             'github': ['bnbofficial', 'bnbproject', 'bnbinu'],\n",
       "             'linktree': ['bnbproject', 'bnbtoken']})"
      ]
     },
     "execution_count": 10,
     "metadata": {},
     "output_type": "execute_result"
    }
   ],
   "source": [
    "checker.collects"
   ]
  },
  {
   "cell_type": "code",
   "execution_count": 7,
   "metadata": {},
   "outputs": [],
   "source": [
    "import pipreqs"
   ]
  },
  {
   "cell_type": "code",
   "execution_count": 1,
   "metadata": {},
   "outputs": [],
   "source": [
    "from web3 import Web3\n",
    "w3 = Web3(Web3.HTTPProvider(\"https://mainnet.infura.io/v3/1ad00f3ac1694ee5b27921d22887fc46\"))\n",
    "contract_abi = [\n",
    "    {\n",
    "        \"constant\": True,\n",
    "        \"inputs\": [],\n",
    "        \"name\": \"name\",\n",
    "        \"outputs\": [\n",
    "            {\n",
    "                \"name\": \"\",\n",
    "                \"type\": \"string\"\n",
    "            }\n",
    "        ],\n",
    "        \"payable\": False,\n",
    "        \"stateMutability\": \"view\",\n",
    "        \"type\": \"function\"\n",
    "    },\n",
    "    {\n",
    "        \"constant\": True,\n",
    "        \"inputs\": [],\n",
    "        \"name\": \"symbol\",\n",
    "        \"outputs\": [\n",
    "            {\n",
    "                \"name\": \"\",\n",
    "                \"type\": \"string\"\n",
    "            }\n",
    "        ],\n",
    "        \"payable\": False,\n",
    "        \"stateMutability\": \"view\",\n",
    "        \"type\": \"function\"\n",
    "    }\n",
    "]\n",
    "\n",
    "\n",
    "contract_address = w3.toChecksumAddress(\"0x4Fabb145d64652a948d72533023f6E7A623C7C53\")\n",
    "def get_name(address):\n",
    "    contract = w3.eth.contract(address=w3.toChecksumAddress(address), abi=contract_abi)\n",
    "    return {\n",
    "        'name': contract.functions.name().call(),\n",
    "        'symbol': contract.functions.symbol().call()\n",
    "    }\n"
   ]
  },
  {
   "cell_type": "code",
   "execution_count": 2,
   "metadata": {},
   "outputs": [
    {
     "data": {
      "text/plain": [
       "{'name': 'Binance USD', 'symbol': 'BUSD'}"
      ]
     },
     "execution_count": 2,
     "metadata": {},
     "output_type": "execute_result"
    }
   ],
   "source": [
    "get_name(\"0x4Fabb145d64652a948d72533023f6E7A623C7C53\")"
   ]
  },
  {
   "cell_type": "code",
   "execution_count": null,
   "metadata": {},
   "outputs": [],
   "source": []
  }
 ],
 "metadata": {
  "kernelspec": {
   "display_name": "Python 3",
   "language": "python",
   "name": "python3"
  },
  "language_info": {
   "codemirror_mode": {
    "name": "ipython",
    "version": 3
   },
   "file_extension": ".py",
   "mimetype": "text/x-python",
   "name": "python",
   "nbconvert_exporter": "python",
   "pygments_lexer": "ipython3",
   "version": "3.11.1 (v3.11.1:a7a450f84a, Dec  6 2022, 15:24:06) [Clang 13.0.0 (clang-1300.0.29.30)]"
  },
  "orig_nbformat": 4,
  "vscode": {
   "interpreter": {
    "hash": "1a1af0ee75eeea9e2e1ee996c87e7a2b11a0bebd85af04bb136d915cefc0abce"
   }
  }
 },
 "nbformat": 4,
 "nbformat_minor": 2
}
